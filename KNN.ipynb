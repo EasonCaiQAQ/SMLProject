{
 "cells": [
  {
   "cell_type": "code",
   "execution_count": 1,
   "id": "f503419e",
   "metadata": {},
   "outputs": [],
   "source": [
    "import pandas as pd \n",
    "import numpy as np\n",
    "from sklearn.model_selection import train_test_split\n",
    "from sklearn.preprocessing import StandardScaler \n",
    "import sklearn.model_selection as sklms\n",
    "import sklearn.neighbors as sklnb\n",
    "import matplotlib.pyplot as plt\n",
    "\n",
    "import sklearn.datasets\n",
    "import sklearn.linear_model\n",
    "import random\n",
    "from sklearn.metrics import confusion_matrix\n",
    "from sklearn.metrics import accuracy_score\n",
    "from sklearn.metrics import precision_score\n",
    "from sklearn.metrics import recall_score\n",
    "from sklearn.metrics import f1_score\n",
    "\n",
    "%matplotlib inline"
   ]
  },
  {
   "cell_type": "code",
   "execution_count": 2,
   "id": "03cc94bf",
   "metadata": {},
   "outputs": [],
   "source": [
    "#create confusion matrix\n",
    "def performace(y_test,y_pred):\n",
    "    m1 = confusion_matrix(y_test, y_pred)\n",
    "    acc = accuracy_score(y_test, y_pred)\n",
    "    pre = precision_score(y_test, y_pred)\n",
    "    rec = recall_score(y_test, y_pred)\n",
    "    f1 = f1_score(y_test, y_pred)\n",
    "    print(\"confusionmatrix:\")\n",
    "    print( m1 )\n",
    "    print(f\"accuracy:{acc}\")\n",
    "    print(f\"precision:{pre}\")\n",
    "    print(f\"recall:{rec}\")\n",
    "    print(f\"F1-score:{f1}\")"
   ]
  },
  {
   "cell_type": "code",
   "execution_count": 3,
   "id": "7b51a6e8",
   "metadata": {
    "scrolled": true
   },
   "outputs": [
    {
     "data": {
      "text/html": [
       "<div>\n",
       "<style scoped>\n",
       "    .dataframe tbody tr th:only-of-type {\n",
       "        vertical-align: middle;\n",
       "    }\n",
       "\n",
       "    .dataframe tbody tr th {\n",
       "        vertical-align: top;\n",
       "    }\n",
       "\n",
       "    .dataframe thead th {\n",
       "        text-align: right;\n",
       "    }\n",
       "</style>\n",
       "<table border=\"1\" class=\"dataframe\">\n",
       "  <thead>\n",
       "    <tr style=\"text-align: right;\">\n",
       "      <th></th>\n",
       "      <th>Number words female</th>\n",
       "      <th>Total words</th>\n",
       "      <th>Number of words lead</th>\n",
       "      <th>Difference in words lead and co-lead</th>\n",
       "      <th>Number of male actors</th>\n",
       "      <th>Year</th>\n",
       "      <th>Number of female actors</th>\n",
       "      <th>Number words male</th>\n",
       "      <th>Gross</th>\n",
       "      <th>Mean Age Male</th>\n",
       "      <th>Mean Age Female</th>\n",
       "      <th>Age Lead</th>\n",
       "      <th>Age Co-Lead</th>\n",
       "      <th>Lead</th>\n",
       "    </tr>\n",
       "  </thead>\n",
       "  <tbody>\n",
       "    <tr>\n",
       "      <th>0</th>\n",
       "      <td>1512</td>\n",
       "      <td>6394</td>\n",
       "      <td>2251.0</td>\n",
       "      <td>343</td>\n",
       "      <td>2</td>\n",
       "      <td>1995</td>\n",
       "      <td>5</td>\n",
       "      <td>2631</td>\n",
       "      <td>142.0</td>\n",
       "      <td>51.500000</td>\n",
       "      <td>42.333333</td>\n",
       "      <td>46.0</td>\n",
       "      <td>65.0</td>\n",
       "      <td>Female</td>\n",
       "    </tr>\n",
       "    <tr>\n",
       "      <th>1</th>\n",
       "      <td>1524</td>\n",
       "      <td>8780</td>\n",
       "      <td>2020.0</td>\n",
       "      <td>1219</td>\n",
       "      <td>9</td>\n",
       "      <td>2001</td>\n",
       "      <td>4</td>\n",
       "      <td>5236</td>\n",
       "      <td>37.0</td>\n",
       "      <td>39.125000</td>\n",
       "      <td>29.333333</td>\n",
       "      <td>58.0</td>\n",
       "      <td>34.0</td>\n",
       "      <td>Male</td>\n",
       "    </tr>\n",
       "    <tr>\n",
       "      <th>2</th>\n",
       "      <td>155</td>\n",
       "      <td>4176</td>\n",
       "      <td>942.0</td>\n",
       "      <td>787</td>\n",
       "      <td>7</td>\n",
       "      <td>1968</td>\n",
       "      <td>1</td>\n",
       "      <td>3079</td>\n",
       "      <td>376.0</td>\n",
       "      <td>42.500000</td>\n",
       "      <td>37.000000</td>\n",
       "      <td>46.0</td>\n",
       "      <td>37.0</td>\n",
       "      <td>Male</td>\n",
       "    </tr>\n",
       "    <tr>\n",
       "      <th>3</th>\n",
       "      <td>1073</td>\n",
       "      <td>9855</td>\n",
       "      <td>3440.0</td>\n",
       "      <td>2623</td>\n",
       "      <td>12</td>\n",
       "      <td>2002</td>\n",
       "      <td>2</td>\n",
       "      <td>5342</td>\n",
       "      <td>19.0</td>\n",
       "      <td>35.222222</td>\n",
       "      <td>21.500000</td>\n",
       "      <td>33.0</td>\n",
       "      <td>23.0</td>\n",
       "      <td>Male</td>\n",
       "    </tr>\n",
       "    <tr>\n",
       "      <th>4</th>\n",
       "      <td>1317</td>\n",
       "      <td>7688</td>\n",
       "      <td>3835.0</td>\n",
       "      <td>3149</td>\n",
       "      <td>8</td>\n",
       "      <td>1988</td>\n",
       "      <td>4</td>\n",
       "      <td>2536</td>\n",
       "      <td>40.0</td>\n",
       "      <td>45.250000</td>\n",
       "      <td>45.000000</td>\n",
       "      <td>36.0</td>\n",
       "      <td>39.0</td>\n",
       "      <td>Male</td>\n",
       "    </tr>\n",
       "  </tbody>\n",
       "</table>\n",
       "</div>"
      ],
      "text/plain": [
       "   Number words female  Total words  Number of words lead  \\\n",
       "0                 1512         6394                2251.0   \n",
       "1                 1524         8780                2020.0   \n",
       "2                  155         4176                 942.0   \n",
       "3                 1073         9855                3440.0   \n",
       "4                 1317         7688                3835.0   \n",
       "\n",
       "   Difference in words lead and co-lead  Number of male actors  Year  \\\n",
       "0                                   343                      2  1995   \n",
       "1                                  1219                      9  2001   \n",
       "2                                   787                      7  1968   \n",
       "3                                  2623                     12  2002   \n",
       "4                                  3149                      8  1988   \n",
       "\n",
       "   Number of female actors  Number words male  Gross  Mean Age Male  \\\n",
       "0                        5               2631  142.0      51.500000   \n",
       "1                        4               5236   37.0      39.125000   \n",
       "2                        1               3079  376.0      42.500000   \n",
       "3                        2               5342   19.0      35.222222   \n",
       "4                        4               2536   40.0      45.250000   \n",
       "\n",
       "   Mean Age Female  Age Lead  Age Co-Lead    Lead  \n",
       "0        42.333333      46.0         65.0  Female  \n",
       "1        29.333333      58.0         34.0    Male  \n",
       "2        37.000000      46.0         37.0    Male  \n",
       "3        21.500000      33.0         23.0    Male  \n",
       "4        45.000000      36.0         39.0    Male  "
      ]
     },
     "execution_count": 3,
     "metadata": {},
     "output_type": "execute_result"
    }
   ],
   "source": [
    "# read the data\n",
    "df = pd.read_csv('C:/Users/36055/OneDrive/桌面/SML Slides/train.csv')\n",
    "df.head()"
   ]
  },
  {
   "cell_type": "code",
   "execution_count": 4,
   "id": "1983950c",
   "metadata": {},
   "outputs": [],
   "source": [
    "# tranfer female and male to 1 and 0 \n",
    "df[\"Lead\"]. replace(\"Female\", 1, inplace = True )\n",
    "df[\"Lead\"]. replace (\"Male\", 0, inplace = True )"
   ]
  },
  {
   "cell_type": "code",
   "execution_count": 5,
   "id": "5db6f5a1",
   "metadata": {
    "scrolled": false
   },
   "outputs": [],
   "source": [
    "# summarize the data\n",
    "df.describe()\n",
    "\n",
    "#get the columns\n",
    "df_col=df.columns"
   ]
  },
  {
   "cell_type": "code",
   "execution_count": 6,
   "id": "7bb46ef2",
   "metadata": {},
   "outputs": [],
   "source": [
    "#standardized data\n",
    "scaler = StandardScaler()\n",
    "\n",
    "# Scale the data\n",
    "df_scale = scaler.fit_transform(df.drop(columns=['Lead']))"
   ]
  },
  {
   "cell_type": "code",
   "execution_count": 7,
   "id": "6ba891b6",
   "metadata": {},
   "outputs": [],
   "source": [
    "# assign column names\n",
    "df_scale=pd.DataFrame(df_scale, columns = df_col[0:13])\n",
    "\n",
    "#add Lead columns to scaled dataframe\n",
    "df_scale['Lead']= df['Lead']\n",
    "\n",
    "#get the features\n",
    "features=df_scale.drop(columns=['Year','Lead'])"
   ]
  },
  {
   "cell_type": "code",
   "execution_count": 8,
   "id": "bcc39de0",
   "metadata": {},
   "outputs": [
    {
     "data": {
      "image/png": "[encoded data removed]",
      "text/plain": [
       "<Figure size 432x288 with 1 Axes>"
      ]
     },
     "metadata": {
      "needs_background": "light"
     },
     "output_type": "display_data"
    }
   ],
   "source": [
    "# cross validation\n",
    "np.random.seed(42)\n",
    "nruns=10\n",
    "K=np.arange(1,50)\n",
    "miserror=np.zeros((nruns,len(K)))\n",
    "\n",
    "for i in range(nruns):\n",
    "    X_train, X_val, y_train, y_val = train_test_split(features, df_scale['Lead'], test_size = .2)\n",
    "     \n",
    "    for j,k in enumerate(K):\n",
    "        model=sklnb.KNeighborsClassifier(n_neighbors=k)\n",
    "        model.fit(X_train,y_train)\n",
    "        prediction=model.predict(X_val)\n",
    "        miserror[i,j] = (np.mean(prediction != y_val))\n",
    "\n",
    "ave_miserror=np.mean(miserror,axis=0)\n",
    "plt.plot(K,ave_miserror)\n",
    "plt.show()"
   ]
  },
  {
   "cell_type": "code",
   "execution_count": 9,
   "id": "b7705df1",
   "metadata": {},
   "outputs": [
    {
     "name": "stdout",
     "output_type": "stream",
     "text": [
      "5 0.8144230769230769\n"
     ]
    }
   ],
   "source": [
    "# get the good k\n",
    "mindx=np.argmin(ave_miserror)\n",
    "print(K[mindx],1-ave_miserror[mindx])"
   ]
  },
  {
   "cell_type": "code",
   "execution_count": 11,
   "id": "79eed9ca",
   "metadata": {},
   "outputs": [
    {
     "name": "stdout",
     "output_type": "stream",
     "text": [
      "confusionmatrix:\n",
      "[[154   6]\n",
      " [ 31  17]]\n",
      "accuracy:0.8221153846153846\n",
      "precision:0.7391304347826086\n",
      "recall:0.3541666666666667\n",
      "F1-score:0.4788732394366197\n"
     ]
    }
   ],
   "source": [
    "# validation performance\n",
    "X_train, X_val, y_train, y_val = train_test_split(features, df_scale['Lead'], test_size = .2)\n",
    "model2=sklnb.KNeighborsClassifier(n_neighbors=5)\n",
    "model2.fit(X_train,y_train)\n",
    "prediction=model2.predict(X_val)\n",
    "performace(y_val,prediction)"
   ]
  },
  {
   "cell_type": "markdown",
   "id": "60543292",
   "metadata": {},
   "source": [
    "# Features selection"
   ]
  },
  {
   "cell_type": "code",
   "execution_count": 12,
   "id": "1e9fcd12",
   "metadata": {},
   "outputs": [],
   "source": [
    "from sklearn.feature_selection import SelectKBest\n",
    "from sklearn.feature_selection import chi2\n",
    "\n",
    "# feature selection\n",
    "def select_features(x,y,k):\n",
    "    fs = SelectKBest(score_func=chi2, k=k)\n",
    "    fs.fit(x, y)\n",
    "    X_fs = fs.transform(x)\n",
    "    return X_fs,fs"
   ]
  },
  {
   "cell_type": "code",
   "execution_count": 13,
   "id": "923b5701",
   "metadata": {},
   "outputs": [],
   "source": [
    "# feature selection\n",
    "X_fs,fs=select_features(df.drop(columns=['Lead']), df['Lead'],5)"
   ]
  },
  {
   "cell_type": "code",
   "execution_count": 14,
   "id": "238b7ebb",
   "metadata": {},
   "outputs": [
    {
     "name": "stdout",
     "output_type": "stream",
     "text": [
      "Feature 0: 4941.990647\n",
      "Feature 1: 30105.306110\n",
      "Feature 2: 24307.234060\n",
      "Feature 3: 82016.532631\n",
      "Feature 4: 84.472926\n",
      "Feature 5: 0.265082\n",
      "Feature 6: 102.118345\n",
      "Feature 7: 5075.660054\n",
      "Feature 8: 465.449958\n",
      "Feature 9: 0.671512\n",
      "Feature 10: 4.338742\n",
      "Feature 11: 172.129735\n",
      "Feature 12: 146.416376\n"
     ]
    },
    {
     "data": {
      "image/png": "[encoded data removed]",
      "text/plain": [
       "<Figure size 432x288 with 1 Axes>"
      ]
     },
     "metadata": {
      "needs_background": "light"
     },
     "output_type": "display_data"
    }
   ],
   "source": [
    "# get the features scores\n",
    "for i in range(len(fs.scores_)):\n",
    "    print('Feature %d: %f' % (i, fs.scores_[i]))\n",
    "# plot the scores\n",
    "plt.bar([i for i in range(len(fs.scores_))], fs.scores_)\n",
    "plt.show()"
   ]
  },
  {
   "cell_type": "code",
   "execution_count": 15,
   "id": "dd86c1c1",
   "metadata": {},
   "outputs": [],
   "source": [
    "#standardized data\n",
    "scaler = StandardScaler()\n",
    "\n",
    "# Scale the data\n",
    "X_fs = scaler.fit_transform(X_fs)"
   ]
  },
  {
   "cell_type": "code",
   "execution_count": 16,
   "id": "374151a6",
   "metadata": {},
   "outputs": [
    {
     "data": {
      "image/png": "[encoded data removed]",
      "text/plain": [
       "<Figure size 432x288 with 1 Axes>"
      ]
     },
     "metadata": {
      "needs_background": "light"
     },
     "output_type": "display_data"
    }
   ],
   "source": [
    "# cross validation\n",
    "np.random.seed(50)\n",
    "nruns=10\n",
    "K=np.arange(1,50)\n",
    "miserror=np.zeros((nruns,len(K)))\n",
    "\n",
    "for i in range(nruns):\n",
    "    X_train, X_val, y_train, y_val = train_test_split(X_fs, df['Lead'], test_size = .2)\n",
    "     \n",
    "    for j,k in enumerate(K):\n",
    "        model=sklnb.KNeighborsClassifier(n_neighbors=k)\n",
    "        model.fit(X_train,y_train)\n",
    "        prediction=model.predict(X_val)\n",
    "        miserror[i,j] = (np.mean(prediction != y_val))\n",
    "\n",
    "ave_miserror=np.mean(miserror,axis=0)\n",
    "plt.plot(K,ave_miserror)\n",
    "plt.show()"
   ]
  },
  {
   "cell_type": "code",
   "execution_count": 17,
   "id": "8fb39e04",
   "metadata": {},
   "outputs": [
    {
     "name": "stdout",
     "output_type": "stream",
     "text": [
      "4 0.8225961538461538\n"
     ]
    }
   ],
   "source": [
    "# get the good k\n",
    "mindx=np.argmin(ave_miserror)\n",
    "print(K[mindx],1-ave_miserror[mindx])"
   ]
  },
  {
   "cell_type": "code",
   "execution_count": 25,
   "id": "8607f662",
   "metadata": {},
   "outputs": [
    {
     "name": "stdout",
     "output_type": "stream",
     "text": [
      "confusionmatrix:\n",
      "[[157   3]\n",
      " [ 27  21]]\n",
      "accuracy:0.8557692307692307\n",
      "precision:0.875\n",
      "recall:0.4375\n",
      "F1-score:0.5833333333333334\n"
     ]
    }
   ],
   "source": [
    "# validation performance\n",
    "X_train, X_val, y_train, y_val = train_test_split(X_fs, df['Lead'], test_size = .2)\n",
    "model=sklnb.KNeighborsClassifier(n_neighbors=5)\n",
    "model.fit(X_train,y_train)\n",
    "prediction=model.predict(X_val)\n",
    "performace(y_val,prediction)"
   ]
  }
 ],
 "metadata": {
  "kernelspec": {
   "display_name": "Python 3 (ipykernel)",
   "language": "python",
   "name": "python3"
  },
  "language_info": {
   "codemirror_mode": {
    "name": "ipython",
    "version": 3
   },
   "file_extension": ".py",
   "mimetype": "text/x-python",
   "name": "python",
   "nbconvert_exporter": "python",
   "pygments_lexer": "ipython3",
   "version": "3.9.10"
  }
 },
 "nbformat": 4,
 "nbformat_minor": 5
}
