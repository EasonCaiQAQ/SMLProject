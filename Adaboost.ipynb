{
 "cells": [
  {
   "cell_type": "code",
   "execution_count": 37,
   "metadata": {},
   "outputs": [],
   "source": [
    "import os\n",
    "os.chdir(\"C:\\\\Users\\\\rebeccalai\\\\OneDrive\\\\desktop\\\\movie\")\n",
    "import pandas as pd \n",
    "from statsmodels.stats.outliers_influence import variance_inflation_factor\n",
    "from sklearn . model_selection import train_test_split\n",
    "from sklearn . preprocessing import StandardScaler\n",
    "from sklearn.model_selection import GridSearchCV\n",
    "from sklearn.metrics import confusion_matrix\n",
    "from sklearn.metrics import accuracy_score\n",
    "from sklearn.metrics import precision_score\n",
    "from sklearn.metrics import recall_score\n",
    "from sklearn.metrics import f1_score\n",
    "\n",
    "def performace(y_test,y_pred):\n",
    "    m1 = confusion_matrix(y_test, y_pred)\n",
    "    acc = accuracy_score(y_test, y_pred)\n",
    "    pre = precision_score(y_test, y_pred)\n",
    "    rec = recall_score(y_test, y_pred)\n",
    "    f1 = f1_score(y_test, y_pred)\n",
    "    print(\"confusionmatrix:\")\n",
    "    print( m1 )\n",
    "    print(f\"accuracy:{acc}\")\n",
    "    print(f\"precision:{pre}\")\n",
    "    print(f\"recall:{rec}\")\n",
    "    print(f\"F1-score:{f1}\")\n",
    "\n",
    "\n",
    "# load data\n",
    "url_train = \"train.csv\"\n",
    "train = pd. read_csv (url_train)\n",
    "\n",
    "train.describe ()\n",
    "train[\"Lead\"]. replace(\"Female\", 1, inplace = True )\n",
    "train[\"Lead\"]. replace (\"Male\", 0, inplace = True )\n",
    "\n",
    "Y = train[\"Lead\"]\n",
    "X = train.drop([\"Lead\",\"Year\"],axis =1)\n",
    "# X = X.iloc[:,[0,1,2,3,4,5,10,11]]\n",
    "X_train , X_test , y_train , y_test = train_test_split (X, Y, test_size =0.2, random_state =1)\n",
    "\n",
    "# s = StandardScaler ()\n",
    "# X_train = s. fit_transform (X_train)\n",
    "# X_test = s. fit_transform (X_test)\n",
    "# # Normalize the data\n",
    "# s = StandardScaler ()\n",
    "# X_train = s. fit_transform (X_train)\n",
    "# X_test = s. fit_transform (X_test)"
   ]
  },
  {
   "cell_type": "code",
   "execution_count": 23,
   "metadata": {},
   "outputs": [
    {
     "name": "stdout",
     "output_type": "stream",
     "text": [
      "confusionmatrix:\n",
      "[[155  12]\n",
      " [ 16  25]]\n",
      "accuracy:0.8653846153846154\n",
      "precision:0.6756756756756757\n",
      "recall:0.6097560975609756\n",
      "F1-score:0.6410256410256411\n"
     ]
    }
   ],
   "source": [
    "from sklearn.ensemble import AdaBoostClassifier\n",
    "from sklearn.preprocessing import LabelEncoder\n",
    "from sklearn.tree import DecisionTreeClassifier\n",
    "\n",
    "AdaBoost = AdaBoostClassifier(n_estimators=400,learning_rate=1,algorithm='SAMME')\n",
    "model_ada = AdaBoost.fit(X_train,y_train)\n",
    "y_pred_adaboost = model_ada.predict(X_test)\n",
    "performace(y_test,y_pred_adaboost)\n"
   ]
  },
  {
   "cell_type": "code",
   "execution_count": 38,
   "metadata": {},
   "outputs": [
    {
     "name": "stdout",
     "output_type": "stream",
     "text": [
      "confusionmatrix:\n",
      "[[163   4]\n",
      " [ 17  24]]\n",
      "accuracy:0.8990384615384616\n",
      "precision:0.8571428571428571\n",
      "recall:0.5853658536585366\n",
      "F1-score:0.6956521739130435\n"
     ]
    }
   ],
   "source": [
    "from numpy import mean\n",
    "from numpy import std\n",
    "from sklearn.model_selection import cross_val_score\n",
    "from sklearn.model_selection import RepeatedStratifiedKFold\n",
    "from sklearn.ensemble import GradientBoostingClassifier\n",
    "\n",
    "model=GradientBoostingClassifier(learning_rate= 0.1, max_depth= 5, max_features=8, n_estimators=500, subsample= 1)\n",
    "model_gb = model.fit(X_train,y_train)\n",
    "y_pred_gb = model_gb.predict(X_test)\n",
    "performace(y_test,y_pred_gb)"
   ]
  },
  {
   "cell_type": "code",
   "execution_count": 34,
   "metadata": {},
   "outputs": [
    {
     "name": "stdout",
     "output_type": "stream",
     "text": [
      ">10 0.819 (0.035)\n",
      ">50 0.849 (0.038)\n",
      ">100 0.851 (0.037)\n",
      ">500 0.836 (0.041)\n",
      ">1000 0.836 (0.037)\n",
      ">5000 0.821 (0.040)\n"
     ]
    },
    {
     "data": {
      "image/png": "[encoded data removed]",
      "text/plain": [
       "<Figure size 640x480 with 1 Axes>"
      ]
     },
     "metadata": {},
     "output_type": "display_data"
    }
   ],
   "source": [
    "# Explore number  of trees\n",
    "# explore adaboost ensemble number of trees effect on performance\n",
    "from numpy import mean\n",
    "from numpy import std\n",
    "from sklearn.model_selection import cross_val_score\n",
    "from sklearn.model_selection import RepeatedStratifiedKFold\n",
    "from sklearn.ensemble import AdaBoostClassifier\n",
    "from matplotlib import pyplot\n",
    "\n",
    "# Adaboost hyperparameters\n",
    "# explore number of trees\n",
    "def get_models():\n",
    "\tmodels = dict()\n",
    "\t# define number of trees to consider\n",
    "\tn_trees = [10, 50, 100, 500, 1000, 5000]\n",
    "\tfor n in n_trees:\n",
    "\t\tmodels[str(n)] = AdaBoostClassifier(n_estimators=n)\n",
    "\treturn models\n",
    "\n",
    "# evaluate a given model using cross-validation\n",
    "def evaluate_model(model, X, y):\n",
    "\t# define the evaluation procedure\n",
    "\tcv = RepeatedStratifiedKFold(n_splits=10, n_repeats=3, random_state=1)\n",
    "\t# evaluate the model and collect the results\n",
    "\tscores = cross_val_score(model, X, y, scoring='accuracy', cv=cv, n_jobs=-1)\n",
    "\treturn scores\n",
    "\n",
    "# get the models to evaluate\n",
    "models = get_models()\n",
    "# evaluate the models and store results\n",
    "results, names = list(), list()\n",
    "for name, model in models.items():\n",
    " # evaluate the model\n",
    "    scores = evaluate_model(model, X_train, y_train)\n",
    " # store the results\n",
    "    results.append(scores)\n",
    "    names.append(name)\n",
    " # summarize the performance along the way\n",
    "    print('>%s %.3f (%.3f)' % (name, mean(scores), std(scores)))\n",
    "# plot model performance for comparison\n",
    "pyplot.boxplot(results, labels=names, showmeans=True)\n",
    "pyplot.show()\n",
    "# we can see In this case, we can see that that performance improves on this dataset until about 100 trees and declines after that. \n",
    "# This might be a sign of the ensemble overfitting the training dataset after additional trees are added.\n"
   ]
  },
  {
   "cell_type": "code",
   "execution_count": 35,
   "metadata": {},
   "outputs": [
    {
     "name": "stdout",
     "output_type": "stream",
     "text": [
      ">1 0.849 (0.038)\n",
      ">2 0.840 (0.036)\n",
      ">3 0.817 (0.034)\n",
      ">4 0.826 (0.043)\n",
      ">5 0.856 (0.034)\n",
      ">6 0.856 (0.037)\n",
      ">7 0.856 (0.036)\n",
      ">8 0.855 (0.037)\n",
      ">9 0.849 (0.040)\n",
      ">10 0.859 (0.037)\n"
     ]
    },
    {
     "data": {
      "image/png": "[encoded data removed]",
      "text/plain": [
       "<Figure size 640x480 with 1 Axes>"
      ]
     },
     "metadata": {},
     "output_type": "display_data"
    }
   ],
   "source": [
    "# Explore weak learner\n",
    "# We can make the models used in the ensemble less weak (more skillful) by increasing the depth of the decision tree\n",
    "from sklearn.tree import DecisionTreeClassifier\n",
    "def get_models():\n",
    "    models = dict()\n",
    "    # explore depths from 1 to 10\n",
    "    for i in range(1,11):\n",
    "    # define base model\n",
    "        base = DecisionTreeClassifier(max_depth=i)\n",
    "        # define ensemble model\n",
    "        models[str(i)] = AdaBoostClassifier(base_estimator=base)\n",
    "    return models\n",
    "\n",
    "models = get_models()\n",
    "# evaluate the models and store results\n",
    "results, names = list(), list()\n",
    "for name, model in models.items():\n",
    "    # evaluate the model\n",
    "    scores = evaluate_model(model, X_train, y_train)\n",
    "    # store the results\n",
    "    results.append(scores)\n",
    "    names.append(name)\n",
    "    # summarize the performance along the way\n",
    "    print('>%s %.3f (%.3f)' % (name, mean(scores), std(scores)))\n",
    "# plot model performance for comparison\n",
    "pyplot.boxplot(results, labels=names, showmeans=True)\n",
    "pyplot.show()\n",
    "# Box Plot of AdaBoost Ensemble Weak Learner Depth vs. Classification Accuracy: depth=2"
   ]
  },
  {
   "cell_type": "code",
   "execution_count": 36,
   "metadata": {},
   "outputs": [
    {
     "name": "stdout",
     "output_type": "stream",
     "text": [
      "depth: 1 Best: 0.853208 using {'learning_rate': 0.1, 'n_estimators': 500}\n",
      "depth: 2 Best: 0.860045 using {'learning_rate': 0.1, 'n_estimators': 500}\n",
      "depth: 3 Best: 0.859223 using {'learning_rate': 1.0, 'n_estimators': 500}\n",
      "depth: 4 Best: 0.867666 using {'learning_rate': 1.0, 'n_estimators': 500}\n",
      "depth: 5 Best: 0.867260 using {'learning_rate': 1.0, 'n_estimators': 500}\n",
      "depth: 6 Best: 0.869268 using {'learning_rate': 1.0, 'n_estimators': 500}\n",
      "depth: 7 Best: 0.870477 using {'learning_rate': 1.0, 'n_estimators': 500}\n",
      "depth: 8 Best: 0.866452 using {'learning_rate': 1.0, 'n_estimators': 500}\n",
      "depth: 9 Best: 0.866055 using {'learning_rate': 1.0, 'n_estimators': 500}\n",
      "depth: 10 Best: 0.861240 using {'learning_rate': 1.0, 'n_estimators': 500}\n"
     ]
    }
   ],
   "source": [
    "# hyperparameters， gridsearch CV\n",
    "# example of grid searching key hyperparameters for adaboost on a classification dataset\n",
    "from sklearn.datasets import make_classification\n",
    "from sklearn.model_selection import RepeatedStratifiedKFold\n",
    "from sklearn.model_selection import GridSearchCV\n",
    "\n",
    "# define the model with default hyperparameters\n",
    "    # explore depths from 1 to 10\n",
    "for i in range(1,11):\n",
    "    # define base model\n",
    "    base = DecisionTreeClassifier(max_depth=i)\n",
    "    # define ensemble model\n",
    "    model = AdaBoostClassifier(base_estimator=base)\n",
    "# define the grid of values to search\n",
    "    grid = dict()\n",
    "    grid['n_estimators'] = [10, 50, 100, 500]\n",
    "    grid['learning_rate'] = [0.0001, 0.001, 0.01, 0.1, 1.0]\n",
    "    # define the evaluation procedure\n",
    "    cv = RepeatedStratifiedKFold(n_splits=10, n_repeats=3, random_state=1)\n",
    "    # define the grid search procedure\n",
    "    grid_search = GridSearchCV(estimator=model, param_grid=grid, n_jobs=-1, cv=cv, scoring='accuracy')\n",
    "    # execute the grid search\n",
    "    grid_result = grid_search.fit(X_train, y_train)\n",
    "    # summarize the best score and configuration\n",
    "    print(\"depth: %s Best: %f using %s\" % (i, grid_result.best_score_, grid_result.best_params_))\n"
   ]
  },
  {
   "cell_type": "code",
   "execution_count": 16,
   "metadata": {},
   "outputs": [
    {
     "name": "stdout",
     "output_type": "stream",
     "text": [
      "confusionmatrix:\n",
      "[[162   5]\n",
      " [ 18  23]]\n",
      "accuracy:0.8894230769230769\n",
      "precision:0.8214285714285714\n",
      "recall:0.5609756097560976\n",
      "F1-score:0.6666666666666667\n"
     ]
    }
   ],
   "source": [
    "base = DecisionTreeClassifier(max_depth=6)\n",
    "# define ensemble model\n",
    "model = AdaBoostClassifier(base_estimator=base)\n",
    "grid['n_estimators'] = [10, 50, 100, 500]\n",
    "grid['learning_rate'] = [0.0001, 0.001, 0.01, 0.1, 1.0]\n",
    "# define the evaluation procedure\n",
    "cv = RepeatedStratifiedKFold(n_splits=10, n_repeats=3, random_state=1)\n",
    "# define the grid search procedure\n",
    "grid_search = GridSearchCV(estimator=model, param_grid=grid, n_jobs=-1, cv=cv, scoring='accuracy')\n",
    "grid_result = grid_search.fit(X_train, y_train)\n",
    "y_pred_ada2 = grid_result.predict(X_test)\n",
    "performace(y_test,y_pred_ada2) "
   ]
  }
 ],
 "metadata": {
  "kernelspec": {
   "display_name": "Python 3.9.13 ('base')",
   "language": "python",
   "name": "python3"
  },
  "language_info": {
   "codemirror_mode": {
    "name": "ipython",
    "version": 3
   },
   "file_extension": ".py",
   "mimetype": "text/x-python",
   "name": "python",
   "nbconvert_exporter": "python",
   "pygments_lexer": "ipython3",
   "version": "3.9.13"
  },
  "orig_nbformat": 4,
  "vscode": {
   "interpreter": {
    "hash": "49cb93f377a7abe7414b7b0f21fb3017538004a126cf690fb524202736b7fb92"
   }
  }
 },
 "nbformat": 4,
 "nbformat_minor": 2
}
