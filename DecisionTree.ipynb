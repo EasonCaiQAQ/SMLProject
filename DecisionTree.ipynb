{
  "nbformat": 4,
  "nbformat_minor": 0,
  "metadata": {
    "colab": {
      "provenance": []
    },
    "kernelspec": {
      "name": "python3",
      "display_name": "Python 3"
    },
    "language_info": {
      "name": "python"
    }
  },
  "cells": [
    {
      "cell_type": "markdown",
      "source": [
        "# Data Preprocessing"
      ],
      "metadata": {
        "id": "IJFAFLpYkku8"
      }
    },
    {
      "cell_type": "code",
      "execution_count": null,
      "metadata": {
        "id": "G9Jev63w6TW3",
        "colab": {
          "base_uri": "https://localhost:8080/"
        },
        "outputId": "e2eab1f1-f361-4cb7-d2cb-67d65d8fd6bb"
      },
      "outputs": [
        {
          "output_type": "stream",
          "name": "stderr",
          "text": [
            "/usr/local/lib/python3.8/dist-packages/pandas/core/generic.py:6619: SettingWithCopyWarning: \n",
            "A value is trying to be set on a copy of a slice from a DataFrame\n",
            "\n",
            "See the caveats in the documentation: https://pandas.pydata.org/pandas-docs/stable/user_guide/indexing.html#returning-a-view-versus-a-copy\n",
            "  return self._update_inplace(result)\n"
          ]
        }
      ],
      "source": [
        "import pandas as pd\n",
        "import numpy as np\n",
        "import matplotlib\n",
        "import matplotlib.pyplot as plt\n",
        "from sklearn import tree\n",
        "from sklearn.ensemble import BaggingClassifier, RandomForestClassifier, BaggingRegressor\n",
        "from sklearn.model_selection import GridSearchCV, RandomizedSearchCV\n",
        "from sklearn.metrics import confusion_matrix, accuracy_score, precision_score, recall_score, f1_score\n",
        "\n",
        "np.random.seed(1)\n",
        "OJ = pd.read_csv('https://uppsala.instructure.com/courses/65587/files/3683648/download?download_frd=1')\n",
        "\n",
        "trainIndex = np.random.choice(OJ.shape[0], size=850, replace=False)\n",
        "train = OJ.iloc[OJ.index.isin(trainIndex)]\n",
        "test = OJ.iloc[~OJ.index.isin(trainIndex)]\n",
        "# 'Lead','Number words female','Total words','Number of words lead','Difference in words lead and co-lead','Number of male actors'\n",
        "# 'Year','Number of female actors','Number words male','Gross','Mean Age Male','Mean Age Female','Age Lead','Age Co-Lead'\n",
        "test ['Lead']. replace ('Female', 1 , inplace = True )\n",
        "test ['Lead']. replace ('Male', 0 , inplace = True )\n",
        "\n",
        "X_test = test.drop(columns=['Lead'])\n",
        "y_test = test['Lead']\n",
        "\n",
        "train ['Lead']. replace ('Female', 1 , inplace = True )\n",
        "train ['Lead']. replace ('Male', 0 , inplace = True )\n",
        "\n",
        "X_train = train.drop(columns=['Lead'])\n",
        "y_train = train['Lead']\n"
      ]
    },
    {
      "cell_type": "markdown",
      "source": [
        "# Randomforest Classifier"
      ],
      "metadata": {
        "id": "tKYXHTATEN5I"
      }
    },
    {
      "cell_type": "code",
      "source": [
        "def performace(y_test,y_pred):\n",
        "    m1 = confusion_matrix(y_test, y_pred)\n",
        "    acc = accuracy_score(y_test, y_pred)\n",
        "    pre = precision_score(y_test, y_pred)\n",
        "    rec = recall_score(y_test, y_pred)\n",
        "    f1 = f1_score(y_test, y_pred)\n",
        "    print(\"confusionmatrix:\")\n",
        "    print( m1 )\n",
        "    print(f\"accuracy:{acc}\")\n",
        "    print(f\"precision:{pre}\")\n",
        "    print(f\"recall:{rec}\")\n",
        "    print(f\"F1-score:{f1}\")\n",
        "\n",
        "\n",
        "grid_cv = {\n",
        "    'n_estimators':[500, 700， 1000， 1200], #list(range(50,1000,150)),\n",
        "    'max_features': ['sqrt','log2','auto'],\n",
        "    'max_depth': list(range(5, 10)),\n",
        "    # 'max_samples': list(range(50, 400, 50)),\n",
        "    'criterion': ['entropy','gini'],\n",
        "    'bootstrap': ['True','False']\n",
        "}\n",
        "\n",
        "grid_search_cv = GridSearchCV(RandomForestClassifier(random_state=42), grid_cv, verbose=1, cv=3)\n",
        "grid_search_cv.fit(X_train, y_train)\n",
        "\n",
        "model = RandomForestClassifier(n_estimators = grid_search_cv.best_estimator_.n_estimators,\n",
        "                 max_features = grid_search_cv.best_estimator_.max_features,\n",
        "                 max_depth = grid_search_cv.best_estimator_.max_depth,\n",
        "                 criterion = grid_search_cv.best_estimator_.criterion,\n",
        "                 bootstrap = grid_search_cv.best_estimator_.bootstrap,\n",
        "                #  max_samples = grid_search_cv.best_estimator_.max_samples,\n",
        "                 random_state =42)\n",
        "\n",
        "model.fit(X=X_train, y=y_train)\n",
        "y_predict = model.predict(X_test)\n",
        "print(grid_search_cv.best_estimator_)\n",
        "# print('accuracy rate from randomforest tree is %.2f' %np.mean(y_predict==y_test))\n",
        "# pd.crosstab(y_predict,y_test)\n",
        "performace(y_test,y_predict)"
      ],
      "metadata": {
        "colab": {
          "base_uri": "https://localhost:8080/"
        },
        "id": "Vkps0wUh_WYk",
        "outputId": "757824f9-d460-45a3-a1e8-b6d9f1408154"
      },
      "execution_count": null,
      "outputs": [
        {
          "output_type": "stream",
          "name": "stdout",
          "text": [
            "Fitting 3 folds for each of 120 candidates, totalling 360 fits\n",
            "RandomForestClassifier(bootstrap='True', criterion='entropy', max_depth=9,\n",
            "                       max_features='sqrt', n_estimators=500, random_state=42)\n",
            "confusionmatrix:\n",
            "[[137   4]\n",
            " [ 27  21]]\n",
            "accuracy:0.8359788359788359\n",
            "precision:0.84\n",
            "recall:0.4375\n",
            "F1-score:0.5753424657534247\n"
          ]
        }
      ]
    },
    {
      "cell_type": "markdown",
      "source": [
        "# Bagging Classifier"
      ],
      "metadata": {
        "id": "bJTQMOKbkbjc"
      }
    },
    {
      "cell_type": "code",
      "source": [
        "from sklearn.model_selection import RandomizedSearchCV\n",
        "\n",
        "grid_cv = {\n",
        "    'n_estimators': list(range(400, 1200, 100)),\n",
        "    'max_samples': list(range(50, 400, 50)),\n",
        "    'bootstrap': ['True','False']\n",
        "}\n",
        "\n",
        "grid_search_cv = RandomizedSearchCV(BaggingClassifier(random_state=42), grid_cv, scoring = 'neg_log_loss', n_iter=100, verbose=1, cv=5)\n",
        "grid_search_cv.fit(X_train, y_train)\n",
        "\n",
        "\n",
        "model = BaggingClassifier(n_estimators = grid_search_cv.best_estimator_.n_estimators,\n",
        "                 max_samples = grid_search_cv.best_estimator_.max_samples,\n",
        "                 bootstrap = grid_search_cv.best_estimator_.bootstrap,\n",
        "                 random_state =42)\n",
        "\n",
        "\n",
        "model.fit(X=X_train, y=y_train)\n",
        "X_test = test.drop(columns=['Lead'])\n",
        "y_test = test['Lead']\n",
        "y_predict = model.predict(X_test)\n",
        "print(grid_search_cv.best_estimator_)\n",
        "print('accuracy rate from randomforest tree is %.2f' %np.mean(y_predict==y_test))\n",
        "performace(y_test,y_predict)"
      ],
      "metadata": {
        "colab": {
          "base_uri": "https://localhost:8080/"
        },
        "id": "XzXAMM5AZNzn",
        "outputId": "d2bec577-02c8-4764-c591-0332b68bf1b5"
      },
      "execution_count": null,
      "outputs": [
        {
          "output_type": "stream",
          "name": "stderr",
          "text": [
            "/usr/local/lib/python3.8/dist-packages/sklearn/model_selection/_search.py:292: UserWarning: The total space of parameters 49 is smaller than n_iter=100. Running 49 iterations. For exhaustive searches, use GridSearchCV.\n",
            "  warnings.warn(\n"
          ]
        },
        {
          "output_type": "stream",
          "name": "stdout",
          "text": [
            "Fitting 5 folds for each of 49 candidates, totalling 245 fits\n",
            "BaggingClassifier(max_samples=350, n_estimators=400, random_state=42)\n",
            "accuracy rate from randomforest tree is 0.84\n",
            "confusionmatrix:\n",
            "[[138   5]\n",
            " [ 25  21]]\n",
            "accuracy:0.8412698412698413\n",
            "precision:0.8076923076923077\n",
            "recall:0.45652173913043476\n",
            "F1-score:0.5833333333333333\n"
          ]
        }
      ]
    }
  ]
}