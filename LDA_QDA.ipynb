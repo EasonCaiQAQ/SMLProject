{
 "cells": [
  {
   "cell_type": "code",
   "execution_count": 1,
   "id": "f7df0730",
   "metadata": {},
   "outputs": [],
   "source": [
    "import os\n",
    "os.chdir(\"C:\\\\Users\\\\rebeccalai\\\\OneDrive\\\\desktop\\\\movie\")\n",
    "import pandas as pd \n",
    "from statsmodels.stats.outliers_influence import variance_inflation_factor\n",
    "from sklearn . model_selection import train_test_split\n",
    "from sklearn . preprocessing import StandardScaler\n",
    "from sklearn.model_selection import GridSearchCV\n",
    "from sklearn.metrics import confusion_matrix\n",
    "from sklearn.metrics import accuracy_score\n",
    "from sklearn.metrics import precision_score\n",
    "from sklearn.metrics import recall_score\n",
    "from sklearn.metrics import f1_score"
   ]
  },
  {
   "cell_type": "code",
   "execution_count": 2,
   "id": "b8988e90",
   "metadata": {},
   "outputs": [],
   "source": [
    "# for every x, calculating the VIF and save it in dataframe\n",
    "def calc_vif(X):\n",
    "    vif = pd.DataFrame()\n",
    "    vif[\"variables\"] = X.columns\n",
    "    vif[\"VIF\"] = [variance_inflation_factor(X.values, i) for i in range(X.shape[1])]\n",
    "\n",
    "    return(vif)\n",
    "\n",
    "#create confusion matrix\n",
    "def performace(y_test,y_pred):\n",
    "    m1 = confusion_matrix(y_test, y_pred)\n",
    "    acc = accuracy_score(y_test, y_pred)\n",
    "    pre = precision_score(y_test, y_pred)\n",
    "    rec = recall_score(y_test, y_pred)\n",
    "    f1 = f1_score(y_test, y_pred)\n",
    "    print(\"confusionmatrix:\")\n",
    "    print( m1 )\n",
    "    print(f\"accuracy:{acc}\")\n",
    "    print(f\"precision:{pre}\")\n",
    "    print(f\"recall:{rec}\")\n",
    "    print(f\"F1-score:{f1}\")"
   ]
  },
  {
   "cell_type": "code",
   "execution_count": 3,
   "id": "ffd9cff6",
   "metadata": {},
   "outputs": [
    {
     "name": "stdout",
     "output_type": "stream",
     "text": [
      "female : 24.446583253128008%\n",
      "male : 75.55341674687199%\n"
     ]
    }
   ],
   "source": [
    "# load data\n",
    "url_train = \"train.csv\"\n",
    "train = pd. read_csv (url_train )\n",
    "\n",
    "train.describe ()\n",
    "train[\"Lead\"]. replace(\"Female\", 1, inplace = True )\n",
    "train[\"Lead\"]. replace (\"Male\", 0, inplace = True )\n",
    "\n",
    "Y = train[\"Lead\"]\n",
    "X = train.drop([\"Lead\",\"Year\"],axis =1)\n",
    "# LDA assume the prior probability is the sample distribution probability\n",
    "print (f\"female : {Y.sum ()/len (Y)* 100}%\") # female is 1 and male is 0\n",
    "print (f\"male : {(len(Y)-Y.sum ())/ len(Y)*100}%\") "
   ]
  },
  {
   "cell_type": "code",
   "execution_count": 4,
   "id": "0a1df414",
   "metadata": {},
   "outputs": [
    {
     "name": "stderr",
     "output_type": "stream",
     "text": [
      "d:\\anaconda3\\lib\\site-packages\\statsmodels\\stats\\outliers_influence.py:195: RuntimeWarning: divide by zero encountered in double_scalars\n",
      "  vif = 1. / (1. - r_squared_i)\n"
     ]
    },
    {
     "data": {
      "text/html": [
       "<div>\n",
       "<style scoped>\n",
       "    .dataframe tbody tr th:only-of-type {\n",
       "        vertical-align: middle;\n",
       "    }\n",
       "\n",
       "    .dataframe tbody tr th {\n",
       "        vertical-align: top;\n",
       "    }\n",
       "\n",
       "    .dataframe thead th {\n",
       "        text-align: right;\n",
       "    }\n",
       "</style>\n",
       "<table border=\"1\" class=\"dataframe\">\n",
       "  <thead>\n",
       "    <tr style=\"text-align: right;\">\n",
       "      <th></th>\n",
       "      <th>variables</th>\n",
       "      <th>VIF</th>\n",
       "    </tr>\n",
       "  </thead>\n",
       "  <tbody>\n",
       "    <tr>\n",
       "      <th>0</th>\n",
       "      <td>Number words female</td>\n",
       "      <td>inf</td>\n",
       "    </tr>\n",
       "    <tr>\n",
       "      <th>1</th>\n",
       "      <td>Total words</td>\n",
       "      <td>inf</td>\n",
       "    </tr>\n",
       "    <tr>\n",
       "      <th>2</th>\n",
       "      <td>Number of words lead</td>\n",
       "      <td>inf</td>\n",
       "    </tr>\n",
       "    <tr>\n",
       "      <th>3</th>\n",
       "      <td>Difference in words lead and co-lead</td>\n",
       "      <td>16.476516</td>\n",
       "    </tr>\n",
       "    <tr>\n",
       "      <th>4</th>\n",
       "      <td>Number of male actors</td>\n",
       "      <td>9.734203</td>\n",
       "    </tr>\n",
       "    <tr>\n",
       "      <th>5</th>\n",
       "      <td>Number of female actors</td>\n",
       "      <td>6.042587</td>\n",
       "    </tr>\n",
       "    <tr>\n",
       "      <th>6</th>\n",
       "      <td>Number words male</td>\n",
       "      <td>inf</td>\n",
       "    </tr>\n",
       "    <tr>\n",
       "      <th>7</th>\n",
       "      <td>Gross</td>\n",
       "      <td>1.594579</td>\n",
       "    </tr>\n",
       "    <tr>\n",
       "      <th>8</th>\n",
       "      <td>Mean Age Male</td>\n",
       "      <td>29.464613</td>\n",
       "    </tr>\n",
       "    <tr>\n",
       "      <th>9</th>\n",
       "      <td>Mean Age Female</td>\n",
       "      <td>24.723117</td>\n",
       "    </tr>\n",
       "    <tr>\n",
       "      <th>10</th>\n",
       "      <td>Age Lead</td>\n",
       "      <td>15.399303</td>\n",
       "    </tr>\n",
       "    <tr>\n",
       "      <th>11</th>\n",
       "      <td>Age Co-Lead</td>\n",
       "      <td>14.778460</td>\n",
       "    </tr>\n",
       "  </tbody>\n",
       "</table>\n",
       "</div>"
      ],
      "text/plain": [
       "                               variables        VIF\n",
       "0                    Number words female        inf\n",
       "1                            Total words        inf\n",
       "2                   Number of words lead        inf\n",
       "3   Difference in words lead and co-lead  16.476516\n",
       "4                  Number of male actors   9.734203\n",
       "5                Number of female actors   6.042587\n",
       "6                      Number words male        inf\n",
       "7                                  Gross   1.594579\n",
       "8                          Mean Age Male  29.464613\n",
       "9                        Mean Age Female  24.723117\n",
       "10                              Age Lead  15.399303\n",
       "11                           Age Co-Lead  14.778460"
      ]
     },
     "execution_count": 4,
     "metadata": {},
     "output_type": "execute_result"
    }
   ],
   "source": [
    "calc_vif(X)\n",
    "# # #  attention many Inf， so it has some Co-linear variables. actually we need no more variables with a VIF above 10."
   ]
  },
  {
   "cell_type": "markdown",
   "id": "d34cd712",
   "metadata": {},
   "source": [
    "## LDA"
   ]
  },
  {
   "cell_type": "code",
   "execution_count": 5,
   "id": "d124beed",
   "metadata": {},
   "outputs": [
    {
     "name": "stdout",
     "output_type": "stream",
     "text": [
      "confusionmatrix:\n",
      "[[151  16]\n",
      " [ 11  30]]\n",
      "accuracy:0.8701923076923077\n",
      "precision:0.6521739130434783\n",
      "recall:0.7317073170731707\n",
      "F1-score:0.6896551724137931\n"
     ]
    }
   ],
   "source": [
    "# Split \n",
    "X_train , X_test , y_train , y_test = train_test_split (X, Y, test_size =0.2, random_state =1)\n",
    "\n",
    "# Normalize the data\n",
    "s = StandardScaler ()\n",
    "X_train = s. fit_transform (X_train)\n",
    "X_test = s. fit_transform (X_test)\n",
    "\n",
    "# A useful command is sklearn.discriminant_analysis.LinearDiscriminantAnalysis(). sklearn.discriminant_analysis is imported\n",
    "# maybe we can use PolynomialFeatures later\n",
    "from sklearn.discriminant_analysis import LinearDiscriminantAnalysis \n",
    "from sklearn.discriminant_analysis import QuadraticDiscriminantAnalysis\n",
    "# from sklearn.naive_bayes import GaussianNB\n",
    "\n",
    "LDA_model_default = LinearDiscriminantAnalysis()\n",
    "LDA_model_default.fit(X_train, y_train)\n",
    "y_pred_LDA_default =LDA_model_default.predict(X_test)\n",
    "performace(y_test,y_pred_LDA_default) # confusion matrix: row is the true label."
   ]
  },
  {
   "cell_type": "code",
   "execution_count": 6,
   "id": "14156e3f",
   "metadata": {},
   "outputs": [
    {
     "name": "stdout",
     "output_type": "stream",
     "text": [
      "confusionmatrix:\n",
      "[[151  16]\n",
      " [ 11  30]]\n",
      "accuracy:0.8701923076923077\n",
      "precision:0.6521739130434783\n",
      "recall:0.7317073170731707\n",
      "F1-score:0.6896551724137931\n"
     ]
    }
   ],
   "source": [
    "#Parameter tuning with GridSearchCV \n",
    "grid = dict()\n",
    "grid['solver']=['lsqr',\"svd\"] # ' if \"eigen\" wrong\n",
    "search = GridSearchCV(LDA_model_default, grid, scoring='accuracy', cv = 5, n_jobs=-1)\n",
    "result = search.fit(X_train, y_train)\n",
    "result.best_score_ \n",
    "result.best_params_ \n",
    "\n",
    "y_pred_search_lda = result.predict(X_test)\n",
    "performace(y_test,y_pred_search_lda)  "
   ]
  },
  {
   "cell_type": "code",
   "execution_count": 7,
   "id": "d721d518",
   "metadata": {},
   "outputs": [
    {
     "name": "stdout",
     "output_type": "stream",
     "text": [
      "[[-2.27287768  0.45148875  2.41462948 -2.67112867 -0.95471676  1.95504364\n",
      "   0.19262908  0.08457692  0.24167942 -0.18318395 -0.79979834  0.87100958]]\n"
     ]
    }
   ],
   "source": [
    "# Feature selection\n",
    "print(LDA_model_default.coef_)# weight each of the components"
   ]
  },
  {
   "cell_type": "code",
   "execution_count": 8,
   "id": "df352394",
   "metadata": {},
   "outputs": [
    {
     "name": "stdout",
     "output_type": "stream",
     "text": [
      "[[ 0.0366454   0.05506448  0.06676666  0.10588956  0.1133882  -0.16315915\n",
      "   0.0278246   0.00980086 -0.00164707 -0.02566883  0.11770295 -0.12433827]\n",
      " [-0.10632327 -0.15976455 -0.19371734 -0.30722886 -0.32898549  0.47339133\n",
      "  -0.08073054 -0.0284363   0.00477881  0.07447576 -0.34150435  0.36075611]]\n",
      "[0.74368231 0.25631769]\n"
     ]
    }
   ],
   "source": [
    "print(LDA_model_default.means_) # class means\n",
    "print(LDA_model_default.priors_)"
   ]
  },
  {
   "cell_type": "markdown",
   "id": "4c8c62a6",
   "metadata": {},
   "source": [
    "## QDA"
   ]
  },
  {
   "cell_type": "code",
   "execution_count": 9,
   "id": "43014f99",
   "metadata": {},
   "outputs": [
    {
     "name": "stdout",
     "output_type": "stream",
     "text": [
      "confusionmatrix:\n",
      "[[  0 167]\n",
      " [  0  41]]\n",
      "accuracy:0.1971153846153846\n",
      "precision:0.1971153846153846\n",
      "recall:1.0\n",
      "F1-score:0.3293172690763052\n"
     ]
    },
    {
     "name": "stderr",
     "output_type": "stream",
     "text": [
      "d:\\anaconda3\\lib\\site-packages\\sklearn\\discriminant_analysis.py:887: UserWarning: Variables are collinear\n",
      "  warnings.warn(\"Variables are collinear\")\n"
     ]
    }
   ],
   "source": [
    "QDA_model_default = QuadraticDiscriminantAnalysis()\n",
    "QDA_model_default.fit(X_train, y_train) # Variables are collinear\n",
    "y_pred_QDA_default =QDA_model_default.predict(X_test)\n",
    "performace(y_test,y_pred_QDA_default) "
   ]
  },
  {
   "cell_type": "markdown",
   "id": "dab8d631",
   "metadata": {},
   "source": [
    "## LDA plot"
   ]
  },
  {
   "cell_type": "code",
   "execution_count": 10,
   "id": "bb316e5e",
   "metadata": {},
   "outputs": [
    {
     "name": "stdout",
     "output_type": "stream",
     "text": [
      "confusionmatrix:\n",
      "[[151  16]\n",
      " [ 11  30]]\n",
      "accuracy:0.8701923076923077\n",
      "precision:0.6521739130434783\n",
      "recall:0.7317073170731707\n",
      "F1-score:0.6896551724137931\n"
     ]
    }
   ],
   "source": [
    "# Dimensionality Reduction\n",
    "from sklearn.discriminant_analysis import LinearDiscriminantAnalysis as LDA\n",
    "\n",
    "lda_model = LDA(n_components = 1)  # n_components cannot be larger than min(n_features, n_classes - 1)\n",
    "X_train_lda = lda_model.fit_transform(X_train, y_train)\n",
    "X_test_lda = lda_model.transform(X_test)\n",
    "\n",
    "LDA_model_default = LinearDiscriminantAnalysis()\n",
    "LDA_model_default.fit(X_train_lda, y_train)\n",
    "y_pred_1 = LDA_model_default.predict(X_test_lda)\n",
    "performace(y_test,y_pred_1) "
   ]
  },
  {
   "cell_type": "code",
   "execution_count": 11,
   "id": "be21a6e6",
   "metadata": {},
   "outputs": [
    {
     "data": {
      "image/png": "[encoded data removed]",
      "text/plain": [
       "<Figure size 1500x800 with 1 Axes>"
      ]
     },
     "metadata": {},
     "output_type": "display_data"
    }
   ],
   "source": [
    "import matplotlib.pyplot as plt\n",
    "# plot size\n",
    "plt.figure(figsize=(15, 8))\n",
    "# plotting the graph\n",
    "plt.scatter(X_test_lda, y_pred_1 , c= y_test)\n",
    "plt.show()"
   ]
  },
  {
   "cell_type": "code",
   "execution_count": 12,
   "id": "128ea9b5",
   "metadata": {},
   "outputs": [
    {
     "name": "stdout",
     "output_type": "stream",
     "text": [
      "confusionmatrix:\n",
      "[[155  12]\n",
      " [ 13  28]]\n",
      "accuracy:0.8798076923076923\n",
      "precision:0.7\n",
      "recall:0.6829268292682927\n",
      "F1-score:0.6913580246913581\n"
     ]
    }
   ],
   "source": [
    "# if I Change the prior probability from  [0.74368231 0.25631769] to [0.8,0.2]\n",
    "LDA_model_prior = LinearDiscriminantAnalysis(priors=[0.8,0.2])\n",
    "LDA_model_prior.fit(X_train, y_train)\n",
    "y_pred_LDA_prior =LDA_model_prior.predict(X_test)\n",
    "performace(y_test,y_pred_LDA_prior)"
   ]
  },
  {
   "cell_type": "markdown",
   "id": "a6d1a084",
   "metadata": {},
   "source": [
    "# Feature selection"
   ]
  },
  {
   "cell_type": "code",
   "execution_count": 13,
   "id": "b8b0cbca",
   "metadata": {},
   "outputs": [],
   "source": [
    "from sklearn.model_selection import train_test_split\n",
    "from sklearn.preprocessing import LabelEncoder\n",
    "from sklearn.preprocessing import OrdinalEncoder\n",
    "from sklearn.feature_selection import SelectKBest\n",
    "from sklearn.feature_selection import f_classif\n",
    "from sklearn.feature_selection import chi2\n",
    "from matplotlib import pyplot\n"
   ]
  },
  {
   "cell_type": "code",
   "execution_count": 14,
   "id": "46731b45",
   "metadata": {},
   "outputs": [
    {
     "name": "stdout",
     "output_type": "stream",
     "text": [
      "Feature 0: 6436.133223\n",
      "Feature 1: 31367.363406\n",
      "Feature 2: 24326.453660\n",
      "Feature 3: 70435.704304\n",
      "Feature 4: 59.790763\n",
      "Feature 5: 81.578670\n",
      "Feature 6: 4799.176328\n",
      "Feature 7: 43.876112\n",
      "Feature 8: 0.009336\n",
      "Feature 9: 3.488477\n",
      "Feature 10: 130.224666\n",
      "Feature 11: 149.558741\n"
     ]
    },
    {
     "data": {
      "image/png": "[encoded data removed]",
      "text/plain": [
       "<Figure size 640x480 with 1 Axes>"
      ]
     },
     "metadata": {},
     "output_type": "display_data"
    }
   ],
   "source": [
    "# feature selection\n",
    "def select_features(X_train, y_train, X_test):\n",
    "\tfs = SelectKBest(score_func=chi2, k='all')\n",
    "\tfs.fit(X_train, y_train)\n",
    "\tX_train_fs = fs.transform(X_train)\n",
    "\tX_test_fs = fs.transform(X_test)\n",
    "\treturn X_train_fs, X_test_fs, fs\n",
    "\t\n",
    "# load data\n",
    "url_train = \"train.csv\"\n",
    "train = pd.read_csv(url_train)\n",
    "\n",
    "train.describe ()\n",
    "train[\"Lead\"]. replace(\"Female\", 1, inplace = True )\n",
    "train[\"Lead\"]. replace (\"Male\", 0, inplace = True )\n",
    "\n",
    "Y = train[\"Lead\"]\n",
    "X = train.drop([\"Lead\",\"Year\"],axis =1)\n",
    "X = X.astype(float)\n",
    "\n",
    "# split into train and test sets\n",
    "X_train, X_test, y_train, y_test = train_test_split(X, Y, test_size=0.2, random_state=1)\n",
    "X_train_fs, X_test_fs, fs = select_features(X_train, y_train, X_test)\n",
    "\n",
    "# what are scores for the features\n",
    "for i in range(len(fs.scores_)):\n",
    "\tprint('Feature %d: %f' % (i, fs.scores_[i]))\n",
    "# plot the scores\n",
    "pyplot.bar([i for i in range(len(fs.scores_))], fs.scores_)\n",
    "pyplot.show()\n",
    "# so it means we only want the variable 0,1,2,3,6, namely \"'Number words female', 'Total words', 'Number of words lead',\n",
    "# 'Difference in words lead and co-lead\" and 'Number words male'\n"
   ]
  },
  {
   "cell_type": "code",
   "execution_count": 15,
   "id": "8e0f8181",
   "metadata": {},
   "outputs": [
    {
     "name": "stdout",
     "output_type": "stream",
     "text": [
      "Feature 0: 3.242632\n",
      "Feature 1: 7.357733\n",
      "Feature 2: 10.862665\n",
      "Feature 3: 27.876178\n",
      "Feature 4: 32.122517\n",
      "Feature 5: 69.389958\n",
      "Feature 6: 1.866371\n",
      "Feature 7: 0.231107\n",
      "Feature 8: 0.006525\n",
      "Feature 9: 1.587839\n",
      "Feature 10: 34.718073\n",
      "Feature 11: 38.931766\n"
     ]
    },
    {
     "data": {
      "image/png": "[encoded data removed]",
      "text/plain": [
       "<Figure size 640x480 with 1 Axes>"
      ]
     },
     "metadata": {},
     "output_type": "display_data"
    }
   ],
   "source": [
    "def select_features(X_train, y_train, X_test):\n",
    "\tfs = SelectKBest(score_func=f_classif, k='all')\n",
    "\tfs.fit(X_train, y_train)\n",
    "\tX_train_fs = fs.transform(X_train)\n",
    "\tX_test_fs = fs.transform(X_test)\n",
    "\treturn X_train_fs, X_test_fs, fs\n",
    "\n",
    "X_train, X_test, y_train, y_test = train_test_split(X, Y, test_size=0.2, random_state=1)\n",
    "X_train_fs, X_test_fs, fs = select_features(X_train, y_train, X_test)\n",
    "for i in range(len(fs.scores_)):\n",
    "\tprint('Feature %d: %f' % (i, fs.scores_[i]))\n",
    "# plot the scores\n",
    "pyplot.bar([i for i in range(len(fs.scores_))], fs.scores_)\n",
    "pyplot.show()"
   ]
  },
  {
   "cell_type": "code",
   "execution_count": 18,
   "id": "06a83df3",
   "metadata": {},
   "outputs": [
    {
     "name": "stdout",
     "output_type": "stream",
     "text": [
      "confusionmatrix:\n",
      "[[156  11]\n",
      " [ 11  30]]\n",
      "accuracy:0.8942307692307693\n",
      "precision:0.7317073170731707\n",
      "recall:0.7317073170731707\n",
      "F1-score:0.7317073170731707\n"
     ]
    }
   ],
   "source": [
    "s = StandardScaler ()\n",
    "X_reduced = X.iloc[:,[0,1,2,3,4,5,10,11]]\n",
    "X_reduced.columns\n",
    "X_train, X_test, y_train, y_test = train_test_split(X_reduced, Y, test_size=0.2, random_state=1)\n",
    "# X_train = s. fit_transform (X_train)\n",
    "# X_test = s. fit_transform (X_test)\n",
    "\n",
    "LDA_model_default_reduced = LinearDiscriminantAnalysis()\n",
    "LDA_model_default_reduced.fit(X_train, y_train)\n",
    "y_pred_LDA_default_reduced =LDA_model_default_reduced.predict(X_test)\n",
    "performace(y_test,y_pred_LDA_default_reduced) "
   ]
  },
  {
   "cell_type": "markdown",
   "id": "19e11fed",
   "metadata": {},
   "source": [
    "## QDA"
   ]
  },
  {
   "cell_type": "code",
   "execution_count": 19,
   "id": "7f52c02c",
   "metadata": {},
   "outputs": [
    {
     "name": "stdout",
     "output_type": "stream",
     "text": [
      "confusionmatrix:\n",
      "[[155  12]\n",
      " [  8  33]]\n",
      "accuracy:0.9038461538461539\n",
      "precision:0.7333333333333333\n",
      "recall:0.8048780487804879\n",
      "F1-score:0.7674418604651163\n"
     ]
    }
   ],
   "source": [
    "QDA_model_default = QuadraticDiscriminantAnalysis()\n",
    "QDA_model_default.fit(X_train, y_train) # Variables are collinear\n",
    "y_pred_QDA_default =QDA_model_default.predict(X_test)\n",
    "performace(y_test,y_pred_QDA_default) "
   ]
  },
  {
   "cell_type": "code",
   "execution_count": null,
   "id": "42404c6b",
   "metadata": {},
   "outputs": [],
   "source": [
    "def calc_vif(X):\n",
    "    vif = pd.DataFrame()\n",
    "    vif[\"variables\"] = X.columns\n",
    "    vif[\"VIF\"] = [variance_inflation_factor(X.values, i) for i in range(X.shape[1])]\n",
    "\n",
    "    return(vif)\n",
    "\n",
    "calc_vif(X_reduced)\n",
    "calc_vif(X)"
   ]
  }
 ],
 "metadata": {
  "kernelspec": {
   "display_name": "Python 3.9.13 ('base')",
   "language": "python",
   "name": "python3"
  },
  "language_info": {
   "codemirror_mode": {
    "name": "ipython",
    "version": 3
   },
   "file_extension": ".py",
   "mimetype": "text/x-python",
   "name": "python",
   "nbconvert_exporter": "python",
   "pygments_lexer": "ipython3",
   "version": "3.9.13"
  },
  "vscode": {
   "interpreter": {
    "hash": "49cb93f377a7abe7414b7b0f21fb3017538004a126cf690fb524202736b7fb92"
   }
  }
 },
 "nbformat": 4,
 "nbformat_minor": 5
}
